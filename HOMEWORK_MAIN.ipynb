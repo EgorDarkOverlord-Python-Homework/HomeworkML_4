{
 "cells": [
  {
   "cell_type": "code",
   "execution_count": 8,
   "metadata": {},
   "outputs": [],
   "source": [
    "import random\n",
    "import re\n",
    "from abc import ABC, abstractmethod\n",
    "import logging\n",
    "\n",
    "import numpy as np\n",
    "from scipy.optimize import differential_evolution\n",
    "\n",
    "import cv2\n",
    "from matplotlib import pyplot as plt\n"
   ]
  },
  {
   "cell_type": "markdown",
   "metadata": {},
   "source": [
    "Определяем функцию MSE"
   ]
  },
  {
   "cell_type": "code",
   "execution_count": 9,
   "metadata": {},
   "outputs": [],
   "source": [
    "def mse(image1, image2):\n",
    "    return np.mean((image1 - image2) ** 2)"
   ]
  },
  {
   "cell_type": "markdown",
   "metadata": {},
   "source": [
    "Оптимизаторы"
   ]
  },
  {
   "cell_type": "code",
   "execution_count": 10,
   "metadata": {},
   "outputs": [],
   "source": [
    "class Optimizer(ABC):\n",
    "    @abstractmethod\n",
    "    def optimize(self, template_image, data_images, r_min, r_max, max_iterations, precision):\n",
    "        pass\n",
    "\n",
    "class PeanoOptimizer(Optimizer):\n",
    "    def optimize(self, template_image, data_images, r_min, r_max, max_iterations, precision):\n",
    "        bounds = [(r_min, r_max)]\n",
    "        result = differential_evolution(\n",
    "            lambda r: mse(template_image, self.generate_image_with_radius(data_images, r)),\n",
    "            bounds,\n",
    "            maxiter=max_iterations,\n",
    "            disp=False\n",
    "        )\n",
    "        return result.x[0], result.fun\n",
    "\n",
    "    def generate_image_with_radius(self, data_images, radius):\n",
    "        # Реализация генерации изображения на основе радиуса\n",
    "        # Например, можно просто вернуть одно из изображений для примера\n",
    "        return data_images[0]  # Заглушка\n",
    "    \n",
    "class MonteCarloOptimizer(Optimizer):\n",
    "    def optimize(self, template_image, data_images, r_min, r_max, max_iterations, precision):\n",
    "        best_mse = float('inf')\n",
    "        best_radius = None\n",
    "        \n",
    "        for _ in range(max_iterations):\n",
    "            r = random.uniform(r_min, r_max)\n",
    "            current_mse = mse(template_image, self.generate_image_with_radius(data_images, r))\n",
    "            \n",
    "            if current_mse < best_mse:\n",
    "                best_mse = current_mse\n",
    "                best_radius = r\n",
    "                \n",
    "            if best_mse <= precision:\n",
    "                break\n",
    "                \n",
    "        return best_radius, best_mse\n",
    "\n",
    "    def generate_image_with_radius(self, data_images, radius):\n",
    "        # Реализация генерации изображения на основе радиуса\n",
    "        return data_images[0]  # Заглушка\n",
    "    \n",
    "class GridSearchOptimizer(Optimizer):\n",
    "    def optimize(self, template_image, data_images, r_min, r_max, max_iterations, precision):\n",
    "        radii = np.linspace(r_min, r_max, max_iterations)\n",
    "        best_mse = float('inf')\n",
    "        best_radius = None\n",
    "        \n",
    "        for r in radii:\n",
    "            current_mse = mse(template_image, self.generate_image_with_radius(data_images, r))\n",
    "            \n",
    "            if current_mse < best_mse:\n",
    "                best_mse = current_mse\n",
    "                best_radius = r\n",
    "                \n",
    "            if best_mse <= precision:\n",
    "                break\n",
    "                \n",
    "        return best_radius, best_mse\n",
    "\n",
    "    def generate_image_with_radius(self, data_images, radius):\n",
    "        # Реализация генерации изображения на основе радиуса\n",
    "        return data_images[0]  # Заглушка\n",
    "     "
   ]
  },
  {
   "cell_type": "markdown",
   "metadata": {},
   "source": [
    "Менеджер расчетов"
   ]
  },
  {
   "cell_type": "code",
   "execution_count": 11,
   "metadata": {},
   "outputs": [],
   "source": [
    "class CalculationManager:\n",
    "    def __init__(self, log_file='calculations.log'):\n",
    "        logging.basicConfig(filename=log_file, level=logging.INFO)\n",
    "\n",
    "    def log_calculation(self, radius, mse_value):\n",
    "        logging.info(f'Radius: {radius}, MSE: {mse_value}')\n",
    "        \n",
    "    def run_calculations(self, template_image, data_images, optimizer_class, r_min, r_max, max_iterations=1000, precision=1e-6):\n",
    "        optimizer = optimizer_class()\n",
    "        radius, mse_value = optimizer.optimize(template_image, data_images, r_min, r_max, max_iterations, precision)\n",
    "        self.log_calculation(radius, mse_value)\n",
    "        return radius, mse_value"
   ]
  },
  {
   "cell_type": "markdown",
   "metadata": {},
   "source": []
  },
  {
   "cell_type": "code",
   "execution_count": null,
   "metadata": {},
   "outputs": [
    {
     "ename": "AttributeError",
     "evalue": "module 'cv2' has no attribute 'GRAYSCALE'",
     "output_type": "error",
     "traceback": [
      "\u001b[1;31m---------------------------------------------------------------------------\u001b[0m",
      "\u001b[1;31mAttributeError\u001b[0m                            Traceback (most recent call last)",
      "Cell \u001b[1;32mIn[12], line 2\u001b[0m\n\u001b[0;32m      1\u001b[0m \u001b[38;5;66;03m# Загрузка изображений (заглушки)\u001b[39;00m\n\u001b[1;32m----> 2\u001b[0m template_image \u001b[38;5;241m=\u001b[39m cv2\u001b[38;5;241m.\u001b[39mimread(\u001b[38;5;124m'\u001b[39m\u001b[38;5;124mcell_patch/0.png\u001b[39m\u001b[38;5;124m'\u001b[39m, \u001b[43mcv2\u001b[49m\u001b[38;5;241;43m.\u001b[39;49m\u001b[43mGRAYSCALE\u001b[49m)\n\u001b[0;32m      3\u001b[0m data_images \u001b[38;5;241m=\u001b[39m [np\u001b[38;5;241m.\u001b[39mrandom\u001b[38;5;241m.\u001b[39mrand(\u001b[38;5;241m100\u001b[39m, \u001b[38;5;241m100\u001b[39m) \u001b[38;5;28;01mfor\u001b[39;00m _ \u001b[38;5;129;01min\u001b[39;00m \u001b[38;5;28mrange\u001b[39m(\u001b[38;5;241m10\u001b[39m)]  \u001b[38;5;66;03m# Пример данных\u001b[39;00m\n\u001b[0;32m      4\u001b[0m \u001b[38;5;66;03m# Параметры\u001b[39;00m\n",
      "\u001b[1;31mAttributeError\u001b[0m: module 'cv2' has no attribute 'GRAYSCALE'"
     ]
    }
   ],
   "source": [
    "# Загрузка изображений (заглушки)\n",
    "template_image = cv2.imread('cell_patch/0.png', cv2.IMREAD_GRAYSCALE)\n",
    "data_images = [np.random.rand(100, 100) for _ in range(10)]  # Пример данных\n",
    "# Параметры\n",
    "r_min = 5\n",
    "r_max = 20\n",
    "max_iterations = 100\n",
    "precision = 1e-6\n",
    "# Менеджер расчетов\n",
    "manager = CalculationManager()\n",
    "# Оптимизация с использованием разных методов\n",
    "for optimizer_class in [PeanoOptimizer, MonteCarloOptimizer, GridSearchOptimizer]:\n",
    "    print(f'Running optimization with {optimizer_class.__name__}')\n",
    "    radius, mse_value = manager.run_calculations(template_image, data_images,\n",
    "                                                  optimizer_class,\n",
    "                                                  r_min, r_max,\n",
    "                                                  max_iterations,\n",
    "                                                  precision)\n",
    "    print(f'Best radius: {radius}, Best MSE: {mse_value}')"
   ]
  }
 ],
 "metadata": {
  "kernelspec": {
   "display_name": "Python 3",
   "language": "python",
   "name": "python3"
  },
  "language_info": {
   "codemirror_mode": {
    "name": "ipython",
    "version": 3
   },
   "file_extension": ".py",
   "mimetype": "text/x-python",
   "name": "python",
   "nbconvert_exporter": "python",
   "pygments_lexer": "ipython3",
   "version": "3.12.6"
  }
 },
 "nbformat": 4,
 "nbformat_minor": 2
}
